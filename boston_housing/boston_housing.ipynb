{
 "cells": [
  {
   "cell_type": "markdown",
   "metadata": {},
   "source": [
    "# 机器学习工程师纳米学位\n",
    "## 模型评价与验证\n",
    "## 项目 1: 预测波士顿房价\n",
    "\n",
    "\n",
    "欢迎来到机器学习工程师纳米学位的第一个项目！在此文件中，有些示例代码已经提供给你，但你还需要实现更多的功能来让项目成功运行。除非有明确要求，你无须修改任何已给出的代码。以**编程练习**开始的标题表示接下来的内容中有需要你必须实现的功能。每一部分都会有详细的指导，需要实现的部分也会在注释中以**TODO**标出。请仔细阅读所有的提示！\n",
    "\n",
    "除了实现代码外，你还**必须**回答一些与项目和实现有关的问题。每一个需要你回答的问题都会以**'问题 X'**为标题。请仔细阅读每个问题，并且在问题后的**'回答'**文字框中写出完整的答案。你的项目将会根据你对问题的回答和撰写代码所实现的功能来进行评分。\n",
    "\n",
    ">**提示：**Code 和 Markdown 区域可通过 **Shift + Enter** 快捷键运行。此外，Markdown可以通过双击进入编辑模式。"
   ]
  },
  {
   "cell_type": "markdown",
   "metadata": {},
   "source": [
    "---\n",
    "## 第一步. 导入数据\n",
    "在这个项目中，你将利用马萨诸塞州波士顿郊区的房屋信息数据训练和测试一个模型，并对模型的性能和预测能力进行测试。通过该数据训练后的好的模型可以被用来对房屋做特定预测---尤其是对房屋的价值。对于房地产经纪等人的日常工作来说，这样的预测模型被证明非常有价值。\n",
    "\n",
    "此项目的数据集来自[UCI机器学习知识库(数据集已下线)](https://archive.ics.uci.edu/ml/datasets.html)。波士顿房屋这些数据于1978年开始统计，共506个数据点，涵盖了麻省波士顿不同郊区房屋14种特征的信息。本项目对原始数据集做了以下处理：\n",
    "- 有16个`'MEDV'` 值为50.0的数据点被移除。 这很可能是由于这些数据点包含**遗失**或**看不到的值**。\n",
    "- 有1个数据点的 `'RM'` 值为8.78. 这是一个异常值，已经被移除。\n",
    "- 对于本项目，房屋的`'RM'`， `'LSTAT'`，`'PTRATIO'`以及`'MEDV'`特征是必要的，其余不相关特征已经被移除。\n",
    "- `'MEDV'`特征的值已经过必要的数学转换，可以反映35年来市场的通货膨胀效应。\n",
    "\n",
    "运行下面区域的代码以载入波士顿房屋数据集，以及一些此项目所需的Python库。如果成功返回数据集的大小，表示数据集已载入成功。"
   ]
  },
  {
   "cell_type": "code",
   "execution_count": 1,
   "metadata": {
    "collapsed": true
   },
   "outputs": [],
   "source": [
    "# 载入此项目所需要的库\n",
    "import numpy as np\n",
    "import pandas as pd\n",
    "import visuals as vs # Supplementary code\n",
    "\n",
    "# 检查你的Python版本\n",
    "from sys import version_info\n",
    "if version_info.major != 2 and version_info.minor != 7:\n",
    "    raise Exception('请使用Python 2.7来完成此项目')\n",
    "    \n",
    "# 让结果在notebook中显示\n",
    "%matplotlib inline"
   ]
  },
  {
   "cell_type": "code",
   "execution_count": 3,
   "metadata": {
    "collapsed": false
   },
   "outputs": [
    {
     "name": "stdout",
     "output_type": "stream",
     "text": [
      "        RM  LSTAT  PTRATIO\n",
      "0    6.575   4.98     15.3\n",
      "1    6.421   9.14     17.8\n",
      "2    7.185   4.03     17.8\n",
      "3    6.998   2.94     18.7\n",
      "4    7.147   5.33     18.7\n",
      "5    6.430   5.21     18.7\n",
      "6    6.012  12.43     15.2\n",
      "7    6.172  19.15     15.2\n",
      "8    5.631  29.93     15.2\n",
      "9    6.004  17.10     15.2\n",
      "10   6.377  20.45     15.2\n",
      "11   6.009  13.27     15.2\n",
      "12   5.889  15.71     15.2\n",
      "13   5.949   8.26     21.0\n",
      "14   6.096  10.26     21.0\n",
      "15   5.834   8.47     21.0\n",
      "16   5.935   6.58     21.0\n",
      "17   5.990  14.67     21.0\n",
      "18   5.456  11.69     21.0\n",
      "19   5.727  11.28     21.0\n",
      "20   5.570  21.02     21.0\n",
      "21   5.965  13.83     21.0\n",
      "22   6.142  18.72     21.0\n",
      "23   5.813  19.88     21.0\n",
      "24   5.924  16.30     21.0\n",
      "25   5.599  16.51     21.0\n",
      "26   5.813  14.81     21.0\n",
      "27   6.047  17.28     21.0\n",
      "28   6.495  12.80     21.0\n",
      "29   6.674  11.98     21.0\n",
      "..     ...    ...      ...\n",
      "459  6.484  18.68     20.2\n",
      "460  5.304  24.91     20.2\n",
      "461  6.185  18.03     20.2\n",
      "462  6.229  13.11     20.2\n",
      "463  6.242  10.74     20.2\n",
      "464  6.750   7.74     20.2\n",
      "465  7.061   7.01     20.2\n",
      "466  5.762  10.42     20.2\n",
      "467  5.871  13.34     20.2\n",
      "468  6.312  10.58     20.2\n",
      "469  6.114  14.98     20.2\n",
      "470  5.905  11.45     20.2\n",
      "471  5.454  18.06     20.1\n",
      "472  5.414  23.97     20.1\n",
      "473  5.093  29.68     20.1\n",
      "474  5.983  18.07     20.1\n",
      "475  5.983  13.35     20.1\n",
      "476  5.707  12.01     19.2\n",
      "477  5.926  13.59     19.2\n",
      "478  5.670  17.60     19.2\n",
      "479  5.390  21.14     19.2\n",
      "480  5.794  14.10     19.2\n",
      "481  6.019  12.92     19.2\n",
      "482  5.569  15.10     19.2\n",
      "483  6.027  14.33     19.2\n",
      "484  6.593   9.67     21.0\n",
      "485  6.120   9.08     21.0\n",
      "486  6.976   5.64     21.0\n",
      "487  6.794   6.48     21.0\n",
      "488  6.030   7.88     21.0\n",
      "\n",
      "[489 rows x 3 columns]\n",
      "Boston housing dataset has 489 data points with 4 variables each.\n"
     ]
    }
   ],
   "source": [
    "# 载入波士顿房屋的数据集\n",
    "data = pd.read_csv('housing.csv')\n",
    "prices = data['MEDV']\n",
    "features = data.drop('MEDV', axis = 1)  \n",
    "# 完成\n",
    "print \"Boston housing dataset has {} data points with {} variables each.\".format(*data.shape)"
   ]
  },
  {
   "cell_type": "markdown",
   "metadata": {},
   "source": [
    "---\n",
    "## 第二步. 分析数据\n",
    "在项目的第一个部分，你会对波士顿房地产数据进行初步的观察并给出你的分析。通过对数据的探索来熟悉数据可以让你更好地理解和解释你的结果。\n",
    "\n",
    "由于这个项目的最终目标是建立一个预测房屋价值的模型，我们需要将数据集分为**特征(features)**和**目标变量(target variable)**。\n",
    "- **特征** `'RM'`， `'LSTAT'`，和 `'PTRATIO'`，给我们提供了每个数据点的数量相关的信息。\n",
    "- **目标变量**：` 'MEDV'`，是我们希望预测的变量。\n",
    "\n",
    "他们分别被存在`features`和`prices`两个变量名中。"
   ]
  },
  {
   "cell_type": "markdown",
   "metadata": {},
   "source": [
    "### 编程练习 1：基础统计运算\n",
    "你的第一个编程练习是计算有关波士顿房价的描述统计数据。我们已为你导入了` numpy `，你需要使用这个库来执行必要的计算。这些统计数据对于分析模型的预测结果非常重要的。\n",
    "在下面的代码中，你要做的是：\n",
    "- 计算`prices`中的`'MEDV'`的最小值、最大值、均值、中值和标准差；\n",
    "- 将运算结果储存在相应的变量中。"
   ]
  },
  {
   "cell_type": "code",
   "execution_count": 3,
   "metadata": {
    "collapsed": false
   },
   "outputs": [
    {
     "name": "stdout",
     "output_type": "stream",
     "text": [
      "Statistics for Boston housing dataset:\n",
      "\n",
      "Minimum price: $105,000.00\n",
      "Maximum price: $1,024,800.00\n",
      "Mean price: $454,342.94\n",
      "Median price $438,900.00\n",
      "Standard deviation of prices: $165,171.13\n"
     ]
    }
   ],
   "source": [
    "#TODO 1\n",
    "\n",
    "#目标：计算价值的最小值\n",
    "minimum_price = np.min(prices)\n",
    "\n",
    "#目标：计算价值的最大值\n",
    "maximum_price = np.max(prices)\n",
    "\n",
    "#目标：计算价值的平均值\n",
    "mean_price = np.mean(prices)\n",
    "\n",
    "#目标：计算价值的中值\n",
    "median_price = prices.median()\n",
    "\n",
    "#目标：计算价值的标准差\n",
    "std_price = np.std(prices)\n",
    "\n",
    "#目标：输出计算的结果\n",
    "print \"Statistics for Boston housing dataset:\\n\"\n",
    "print \"Minimum price: ${:,.2f}\".format(minimum_price)\n",
    "print \"Maximum price: ${:,.2f}\".format(maximum_price)\n",
    "print \"Mean price: ${:,.2f}\".format(mean_price)\n",
    "print \"Median price ${:,.2f}\".format(median_price)\n",
    "print \"Standard deviation of prices: ${:,.2f}\".format(std_price)"
   ]
  },
  {
   "cell_type": "markdown",
   "metadata": {},
   "source": [
    "### 问题 1 - 特征观察\n",
    "\n",
    "如前文所述，本项目中我们关注的是其中三个值:`'RM'`、`'LSTAT'` 和`'PTRATIO'`，对每一个数据点:\n",
    "- `'RM'` 是该地区中每个房屋的平均房间数量；\n",
    "- `'LSTAT'` 是指该地区有多少百分比的房东属于是低收入阶层（有工作但收入微薄）；\n",
    "- `'PTRATIO'` 是该地区的中学和小学里，学生和老师的数目比（`学生/老师`）。\n",
    "\n",
    "_凭直觉，上述三个特征中对每一个来说，你认为增大该特征的数值，`'MEDV'`的值会是**增大**还是**减小**呢？每一个答案都需要你给出理由。_\n",
    "\n",
    "**提示：**你预期一个`'RM'` 值是6的房屋跟`'RM'` 值是7的房屋相比，价值更高还是更低呢？"
   ]
  },
  {
   "cell_type": "code",
   "execution_count": null,
   "metadata": {
    "collapsed": true
   },
   "outputs": [],
   "source": []
  },
  {
   "cell_type": "markdown",
   "metadata": {},
   "source": [
    "### 问题 1 - 回答："
   ]
  },
  {
   "cell_type": "code",
   "execution_count": 4,
   "metadata": {
    "collapsed": true
   },
   "outputs": [],
   "source": [
    "# 通过下面的计算，RM是6的比是7的房屋价格均值低，可以说明当RM这个特征增加时，房屋价格也在增加\n",
    "\n",
    "# RM：该值增加，MEDV也会增加。因为随着房屋数量的增加，相对房屋价格应该会增加。\n",
    "# LSTAT：该值增加，MEDV会减小。因为低收入者多的地方，他们所居住的地方房屋价格会更低。\n",
    "# PTRATIO：该值增加，MEDV会减小。比值越大，说明教育状况较差，所以该地区房价也会低。\n"
   ]
  },
  {
   "cell_type": "code",
   "execution_count": 5,
   "metadata": {
    "collapsed": false
   },
   "outputs": [
    {
     "data": {
      "text/html": [
       "<div>\n",
       "<table border=\"1\" class=\"dataframe\">\n",
       "  <thead>\n",
       "    <tr style=\"text-align: right;\">\n",
       "      <th></th>\n",
       "      <th>mean_RM</th>\n",
       "      <th>mean_MEDV</th>\n",
       "    </tr>\n",
       "    <tr>\n",
       "      <th>RM</th>\n",
       "      <th></th>\n",
       "      <th></th>\n",
       "    </tr>\n",
       "  </thead>\n",
       "  <tbody>\n",
       "    <tr>\n",
       "      <th>4.0</th>\n",
       "      <td>4.013600</td>\n",
       "      <td>357420.000000</td>\n",
       "    </tr>\n",
       "    <tr>\n",
       "      <th>5.0</th>\n",
       "      <td>5.181583</td>\n",
       "      <td>293416.666667</td>\n",
       "    </tr>\n",
       "    <tr>\n",
       "      <th>6.0</th>\n",
       "      <td>6.063497</td>\n",
       "      <td>402536.129032</td>\n",
       "    </tr>\n",
       "    <tr>\n",
       "      <th>7.0</th>\n",
       "      <td>6.870377</td>\n",
       "      <td>577654.918033</td>\n",
       "    </tr>\n",
       "    <tr>\n",
       "      <th>8.0</th>\n",
       "      <td>7.939125</td>\n",
       "      <td>910218.750000</td>\n",
       "    </tr>\n",
       "  </tbody>\n",
       "</table>\n",
       "</div>"
      ],
      "text/plain": [
       "      mean_RM      mean_MEDV\n",
       "RM                          \n",
       "4.0  4.013600  357420.000000\n",
       "5.0  5.181583  293416.666667\n",
       "6.0  6.063497  402536.129032\n",
       "7.0  6.870377  577654.918033\n",
       "8.0  7.939125  910218.750000"
      ]
     },
     "execution_count": 5,
     "metadata": {},
     "output_type": "execute_result"
    }
   ],
   "source": [
    "data_rm = pd.read_csv('housing.csv',usecols=['RM','MEDV'])\n",
    "k1 = data_rm.groupby(np.round(data_rm['RM'])).mean().add_prefix('mean_')\n",
    "k1"
   ]
  },
  {
   "cell_type": "markdown",
   "metadata": {},
   "source": [
    "### 编程练习 2: 数据分割与重排\n",
    "接下来，你需要把波士顿房屋数据集分成训练和测试两个子集。通常在这个过程中，数据也会被重排列，以消除数据集中由于顺序而产生的偏差。\n",
    "在下面的代码中，你需要\n",
    "\n",
    "使用 `sklearn.model_selection` 中的 `train_test_split`， 将`features`和`prices`的数据都分成用于训练的数据子集和用于测试的数据子集。\n",
    "  - 分割比例为：80%的数据用于训练，20%用于测试；\n",
    "  - 选定一个数值以设定 `train_test_split` 中的 `random_state` ，这会确保结果的一致性；"
   ]
  },
  {
   "cell_type": "code",
   "execution_count": 6,
   "metadata": {
    "collapsed": false
   },
   "outputs": [],
   "source": [
    "# TODO 2\n",
    "\n",
    "# 提示： 导入train_test_split\n",
    "from sklearn.model_selection import train_test_split\n",
    "\n",
    "X_train, X_test, y_train, y_test = train_test_split(features, prices, test_size=0.2, random_state=0)"
   ]
  },
  {
   "cell_type": "markdown",
   "metadata": {},
   "source": [
    ",### 问题 2 - 训练及测试\n",
    "*将数据集按一定比例分为训练用的数据集和测试用的数据集对学习算法有什么好处？*\n",
    "\n",
    "*如果用模型已经见过的数据，例如部分训练集数据进行测试，又有什么坏处？*\n",
    "\n",
    "**提示：** 如果没有数据来对模型进行测试，会出现什么问题？"
   ]
  },
  {
   "cell_type": "markdown",
   "metadata": {},
   "source": [
    "### 问题 2 - 回答:"
   ]
  },
  {
   "cell_type": "code",
   "execution_count": 11,
   "metadata": {
    "collapsed": true
   },
   "outputs": [],
   "source": [
    "# 整个计算过程不会产生干烧，另外可以用测试集数据对训练的结果进行验证。\n",
    "# 不能准确的判断训练模型的优劣"
   ]
  },
  {
   "cell_type": "markdown",
   "metadata": {},
   "source": [
    "---\n",
    "## 第三步. 模型衡量标准\n",
    "在项目的第三步中，你需要了解必要的工具和技巧来让你的模型进行预测。用这些工具和技巧对每一个模型的表现做精确的衡量可以极大地增强你预测的信心。"
   ]
  },
  {
   "cell_type": "markdown",
   "metadata": {},
   "source": [
    "### 编程练习3：定义衡量标准\n",
    "如果不能对模型的训练和测试的表现进行量化地评估，我们就很难衡量模型的好坏。通常我们会定义一些衡量标准，这些标准可以通过对某些误差或者拟合程度的计算来得到。在这个项目中，你将通过运算[*决定系数*](http://stattrek.com/statistics/dictionary.aspx?definition=coefficient_of_determination) R<sup>2</sup> 来量化模型的表现。模型的决定系数是回归分析中十分常用的统计信息，经常被当作衡量模型预测能力好坏的标准。\n",
    "\n",
    "R<sup>2</sup>的数值范围从0至1，表示**目标变量**的预测值和实际值之间的相关程度平方的百分比。一个模型的R<sup>2</sup> 值为0还不如直接用**平均值**来预测效果好；而一个R<sup>2</sup> 值为1的模型则可以对目标变量进行完美的预测。从0至1之间的数值，则表示该模型中目标变量中有百分之多少能够用**特征**来解释。_模型也可能出现负值的R<sup>2</sup>，这种情况下模型所做预测有时会比直接计算目标变量的平均值差很多。_\n",
    "\n",
    "在下方代码的 `performance_metric` 函数中，你要实现：\n",
    "- 使用 `sklearn.metrics` 中的 [`r2_score`](http://scikit-learn.org/stable/modules/generated/sklearn.metrics.r2_score.html) 来计算 `y_true` 和 `y_predict`的R<sup>2</sup>值，作为对其表现的评判。\n",
    "- 将他们的表现评分储存到`score`变量中。\n",
    "\n",
    "或 \n",
    "\n",
    "- (可选) 不使用任何外部库，参考[决定系数的定义](https://en.wikipedia.org/wiki/Coefficient_of_determination)进行计算，这也可以帮助你更好的理解决定系数在什么情况下等于0或等于1。"
   ]
  },
  {
   "cell_type": "code",
   "execution_count": 12,
   "metadata": {
    "collapsed": true
   },
   "outputs": [],
   "source": [
    "# TODO 3\n",
    "\n",
    "# 提示： 导入r2_score\n",
    "from sklearn.metrics import r2_score\n",
    "\n",
    "def performance_metric(y_true, y_predict):\n",
    "    \"\"\"计算并返回预测值相比于预测值的分数\"\"\"\n",
    "    \n",
    "    score = r2_score(y_true,y_predict)\n",
    "\n",
    "    return score"
   ]
  },
  {
   "cell_type": "code",
   "execution_count": 13,
   "metadata": {
    "collapsed": true
   },
   "outputs": [],
   "source": [
    "# TODO 3 可选\n",
    "\n",
    "# 不允许导入任何计算决定系数的库\n",
    "\n",
    "def performance_metric2(y_true, y_predict):\n",
    "    \"\"\"计算并返回预测值相比于预测值的分数\"\"\"\n",
    "    \n",
    "    score = None\n",
    "\n",
    "    return score"
   ]
  },
  {
   "cell_type": "markdown",
   "metadata": {},
   "source": [
    "### 问题 3 - 拟合程度\n",
    "\n",
    "假设一个数据集有五个数据且一个模型做出下列目标变量的预测：\n",
    "\n",
    "| 真实数值 | 预测数值 |\n",
    "| :-------------: | :--------: |\n",
    "| 3.0 | 2.5 |\n",
    "| -0.5 | 0.0 |\n",
    "| 2.0 | 2.1 |\n",
    "| 7.0 | 7.8 |\n",
    "| 4.2 | 5.3 |\n",
    "*你觉得这个模型已成功地描述了目标变量的变化吗？如果成功，请解释为什么，如果没有，也请给出原因。*  \n",
    "\n",
    "**提示**：运行下方的代码，使用`performance_metric`函数来计算模型的决定系数。"
   ]
  },
  {
   "cell_type": "code",
   "execution_count": 14,
   "metadata": {
    "collapsed": false
   },
   "outputs": [
    {
     "name": "stdout",
     "output_type": "stream",
     "text": [
      "Model has a coefficient of determination, R^2, of 0.923.\n"
     ]
    }
   ],
   "source": [
    "# 计算这个模型的预测结果的决定系数\n",
    "score = performance_metric([3, -0.5, 2, 7, 4.2], [2.5, 0.0, 2.1, 7.8, 5.3])\n",
    "print \"Model has a coefficient of determination, R^2, of {:.3f}.\".format(score)"
   ]
  },
  {
   "cell_type": "markdown",
   "metadata": {},
   "source": [
    "### 问题 3 - 回答:"
   ]
  },
  {
   "cell_type": "code",
   "execution_count": 15,
   "metadata": {
    "collapsed": true
   },
   "outputs": [],
   "source": [
    "# R2的得分比较高。该模型基本预测了目标变量的变化"
   ]
  },
  {
   "cell_type": "markdown",
   "metadata": {},
   "source": [
    "---\n",
    "## 第四步. 分析模型的表现\n",
    "在项目的第四步，我们来看一下不同参数下，模型在训练集和验证集上的表现。这里，我们专注于一个特定的算法（带剪枝的决策树，但这并不是这个项目的重点），和这个算法的一个参数 `'max_depth'`。用全部训练集训练，选择不同`'max_depth'` 参数，观察这一参数的变化如何影响模型的表现。画出模型的表现来对于分析过程十分有益，这可以让我们看到一些单看结果看不到的行为。"
   ]
  },
  {
   "cell_type": "markdown",
   "metadata": {},
   "source": [
    "### 学习曲线\n",
    "下方区域内的代码会输出四幅图像，它们是一个决策树模型在不同最大深度下的表现。每一条曲线都直观得显示了随着训练数据量的增加，模型学习曲线的在训练集评分和验证集评分的变化，评分使用决定系数R<sup>2</sup>。曲线的阴影区域代表的是该曲线的不确定性（用标准差衡量）。\n",
    "\n",
    "运行下方区域中的代码，并利用输出的图形回答下面的问题。"
   ]
  },
  {
   "cell_type": "code",
   "execution_count": 16,
   "metadata": {
    "collapsed": false,
    "scrolled": false
   },
   "outputs": [
    {
     "data": {
      "image/png": "[encoded data removed]",
      "text/plain": [
       "<matplotlib.figure.Figure at 0xb426fd0>"
      ]
     },
     "metadata": {},
     "output_type": "display_data"
    }
   ],
   "source": [
    "# 根据不同的训练集大小，和最大深度，生成学习曲线\n",
    "vs.ModelLearning(X_train, y_train)"
   ]
  },
  {
   "cell_type": "markdown",
   "metadata": {},
   "source": [
    "### 问题 4 - 学习曲线\n",
    "*选择上述图像中的其中一个，并给出其最大深度。随着训练数据量的增加，训练集曲线的评分有怎样的变化？验证集曲线呢？如果有更多的训练数据，是否能有效提升模型的表现呢？*\n",
    "\n",
    "**提示：**学习曲线的评分是否最终会收敛到特定的值？"
   ]
  },
  {
   "cell_type": "markdown",
   "metadata": {},
   "source": [
    "### 问题 4 - 回答:"
   ]
  },
  {
   "cell_type": "code",
   "execution_count": 17,
   "metadata": {
    "collapsed": true
   },
   "outputs": [],
   "source": [
    "# MAX_DEPTH为3的在训练集上表现很好，R2的得分最终在0.8左右.在验证集上，随着训练样本的增多，得分在逐步提升。最终趋于0.8。并且训练集和验证集得分之间的差距最小。\n",
    "# MAX_DEPTH为3时，训练集得分最终趋于稳定，增加训练数据不能提升模型的表现。"
   ]
  },
  {
   "cell_type": "markdown",
   "metadata": {},
   "source": [
    "### 复杂度曲线\n",
    "下列代码内的区域会输出一幅图像，它展示了一个已经经过训练和验证的决策树模型在不同最大深度条件下的表现。这个图形将包含两条曲线，一个是训练集的变化，一个是验证集的变化。跟**学习曲线**相似，阴影区域代表该曲线的不确定性，模型训练和测试部分的评分都用的 `performance_metric` 函数。\n",
    "\n",
    "运行下方区域中的代码，并利用输出的图形并回答下面的两个问题。"
   ]
  },
  {
   "cell_type": "code",
   "execution_count": 18,
   "metadata": {
    "collapsed": false
   },
   "outputs": [
    {
     "data": {
      "image/png": "[encoded data removed]",
      "text/plain": [
       "<matplotlib.figure.Figure at 0xc34e400>"
      ]
     },
     "metadata": {},
     "output_type": "display_data"
    }
   ],
   "source": [
    "# 根据不同的最大深度参数，生成复杂度曲线\n",
    "vs.ModelComplexity(X_train, y_train)"
   ]
  },
  {
   "cell_type": "markdown",
   "metadata": {},
   "source": [
    "### 问题 5 - 偏差（bias）与方差（variance）之间的权衡取舍\n",
    "*当模型以最大深度 1训练时，模型的预测是出现很大的偏差还是出现了很大的方差？当模型以最大深度10训练时，情形又如何呢？图形中的哪些特征能够支持你的结论？*\n",
    "  \n",
    "**提示：** 你如何得知模型是否出现了偏差很大或者方差很大的问题？"
   ]
  },
  {
   "cell_type": "markdown",
   "metadata": {},
   "source": [
    "### 问题 5 - 回答:"
   ]
  },
  {
   "cell_type": "code",
   "execution_count": 19,
   "metadata": {
    "collapsed": true
   },
   "outputs": [],
   "source": [
    "#最大深度是1时， 系统出现了大的偏差，因为训练和验证的R2分都比较低。欠拟合。模型提升空间还很大。 当最大深度是10时，系统出现了大的方差，并且过拟合。因为训练集的分数和测试集的分数相差较大"
   ]
  },
  {
   "cell_type": "markdown",
   "metadata": {},
   "source": [
    "### 问题 6- 最优模型的猜测\n",
    "*结合问题 5 中的图，你认为最大深度是多少的模型能够最好地对未见过的数据进行预测？你得出这个答案的依据是什么？*"
   ]
  },
  {
   "cell_type": "markdown",
   "metadata": {},
   "source": [
    "### 问题 6 - 回答:"
   ]
  },
  {
   "cell_type": "code",
   "execution_count": 20,
   "metadata": {
    "collapsed": true
   },
   "outputs": [],
   "source": [
    "#最大深度是4的时候，模型能够最好的对未见的数据进行预测。 因为此时验证集的的得分基本最高，并且和训练集得分之间的差距也最小。"
   ]
  },
  {
   "cell_type": "markdown",
   "metadata": {},
   "source": [
    "---\n",
    "## 第五步. 选择最优参数"
   ]
  },
  {
   "cell_type": "markdown",
   "metadata": {},
   "source": [
    "### 问题 7- 网格搜索（Grid Search）\n",
    "*什么是网格搜索法？如何用它来优化模型？*\n"
   ]
  },
  {
   "cell_type": "markdown",
   "metadata": {},
   "source": [
    "### 问题 7 - 回答:"
   ]
  },
  {
   "cell_type": "code",
   "execution_count": 21,
   "metadata": {
    "collapsed": true
   },
   "outputs": [],
   "source": [
    "#网格搜索法用于选择模型算法的最优的超参数组合，通过将各个超参数的取值范围进行划分并分别进行计算，然后根据得分择优，从而得出最佳的超参数组合和值。"
   ]
  },
  {
   "cell_type": "markdown",
   "metadata": {},
   "source": [
    "### 问题 8 - 交叉验证\n",
    "- 什么是K折交叉验证法（k-fold cross-validation）？\n",
    "- [GridSearchCV](http://scikit-learn.org/stable/modules/generated/sklearn.model_selection.GridSearchCV.html)是如何结合交叉验证来完成对最佳参数组合的选择的？\n",
    "- [GridSearchCV](http://scikit-learn.org/stable/modules/generated/sklearn.model_selection.GridSearchCV.html)中的`'cv_results_'`属性能告诉我们什么？\n",
    "- 网格搜索时如果不使用交叉验证会有什么问题？交叉验证又是如何解决这个问题的？\n",
    "\n",
    "**提示：** 在下面 fit_model函数最后加入 `print pd.DataFrame(grid.cv_results_)` 可以帮你查看更多信息。"
   ]
  },
  {
   "cell_type": "markdown",
   "metadata": {},
   "source": [
    "### 问题 8 - 回答："
   ]
  },
  {
   "cell_type": "code",
   "execution_count": 22,
   "metadata": {
    "collapsed": true
   },
   "outputs": [],
   "source": [
    "# 1 K折交叉验证法用于参数调整，就是将训练数据集划分成K折，其中k-1折进行训练，其中一折用于验证训练得到的模型参数组合和值，并得出一个得分。以此反复迭代K次。\n",
    "#   最后K次使用实现选择好的评分方式的评分求平均返回，选取得分最高的那组参数组合\n",
    "\n",
    "#  默认情况下 Kfold 是对数据顺序切分。\n",
    "\n",
    "# 2 GridSearchCV 通过参宿cv的设置来结合交叉验证完成对最佳参数组合的选择\n",
    "\n",
    "# 3 cv_results_ 是一个字典。返回训练和测试集上均值、方差的得分，以及参数的组合出最大的一个评分对用的参数组合\n",
    "\n",
    "# 4 单次分割进行网格搜索的话，只计算一次得到的结果来说明某组参数组合最优，这并不严谨。结果有可能不准确。可以使用交叉验证重复计算，取平均结果。"
   ]
  },
  {
   "cell_type": "markdown",
   "metadata": {},
   "source": [
    "### 编程练习 4：训练最优模型\n",
    "在这个练习中，你将需要将所学到的内容整合，使用**决策树算法**训练一个模型。为了得出的是一个最优模型，你需要使用网格搜索法训练模型，以找到最佳的 `'max_depth'` 参数。你可以把`'max_depth'` 参数理解为决策树算法在做出预测前，允许其对数据提出问题的数量。决策树是**监督学习算法**中的一种。\n",
    "\n",
    "在下方 `fit_model` 函数中，你需要做的是：\n",
    "1. **定义 `'cross_validator'` 变量**: 使用 `sklearn.model_selection` 中的 [`KFold`](http://scikit-learn.org/stable/modules/generated/sklearn.model_selection.KFold.html) 创建一个交叉验证生成器对象;\n",
    "2. **定义 `'regressor'` 变量**: 使用  `sklearn.tree` 中的 [`DecisionTreeRegressor`](http://scikit-learn.org/stable/modules/generated/sklearn.tree.DecisionTreeRegressor.html) 创建一个决策树的回归函数;\n",
    "3. **定义 `'params'` 变量**: 为 `'max_depth'` 参数创造一个字典，它的值是从1至10的数组;\n",
    "4. **定义 `'scoring_fnc'` 变量**: 使用 `sklearn.metrics` 中的 [`make_scorer`](http://scikit-learn.org/stable/modules/generated/sklearn.metrics.make_scorer.html)  创建一个评分函数；\n",
    " 将 `‘performance_metric’` 作为参数传至这个函数中；\n",
    "5. **定义 `'grid'` 变量**: 使用 `sklearn.model_selection` 中的 [`GridSearchCV`](http://scikit-learn.org/stable/modules/generated/sklearn.model_selection.GridSearchCV.html) 创建一个网格搜索对象；将变量`'regressor'`, `'params'`, `'scoring_fnc'`和 `'cross_validator'` 作为参数传至这个对象构造函数中；\n",
    "  \n",
    "如果你对python函数的默认参数定义和传递不熟悉，可以参考这个MIT课程的[视频](http://cn-static.udacity.com/mlnd/videos/MIT600XXT114-V004200_DTH.mp4)。"
   ]
  },
  {
   "cell_type": "code",
   "execution_count": 23,
   "metadata": {
    "collapsed": true
   },
   "outputs": [],
   "source": [
    "# TODO 4\n",
    "\n",
    "#提示: 导入 'KFold' 'DecisionTreeRegressor' 'make_scorer' 'GridSearchCV' \n",
    "\n",
    "from sklearn.tree import DecisionTreeRegressor\n",
    "from sklearn.metrics import fbeta_score, make_scorer\n",
    "from sklearn.model_selection import GridSearchCV\n",
    "\n",
    "def fit_model(X, y):\n",
    "    \"\"\" 基于输入数据 [X,y]，利于网格搜索找到最优的决策树模型\"\"\"\n",
    "    \n",
    "    cross_validator = 10\n",
    "    \n",
    "    regressor = DecisionTreeRegressor(random_state=0)\n",
    "\n",
    "    params = {\"max_depth\":range(1,11)}\n",
    "\n",
    "    scoring_fnc = make_scorer(performance_metric)\n",
    "\n",
    "    grid = GridSearchCV(regressor,params,scoring_fnc,cv=cross_validator)\n",
    "\n",
    "    # 基于输入数据 [X,y]，进行网格搜索\n",
    "    grid = grid.fit(X, y)\n",
    "    \n",
    "    print pd.DataFrame(grid.cv_results_)\n",
    "\n",
    "    # 返回网格搜索后的最优模型\n",
    "    return grid.best_estimator_"
   ]
  },
  {
   "cell_type": "markdown",
   "metadata": {},
   "source": [
    "### 编程练习 4：训练最优模型 （可选）\n",
    "在这个练习中，你将需要将所学到的内容整合，使用**决策树算法**训练一个模型。为了得出的是一个最优模型，你需要使用网格搜索法训练模型，以找到最佳的 `'max_depth'` 参数。你可以把`'max_depth'` 参数理解为决策树算法在做出预测前，允许其对数据提出问题的数量。决策树是**监督学习算法**中的一种。\n",
    "\n",
    "在下方 `fit_model` 函数中，你需要做的是：\n",
    "\n",
    "- 遍历参数`‘max_depth’`的可选值 1～10，构造对应模型\n",
    "- 计算当前模型的交叉验证分数\n",
    "- 返回最优交叉验证分数对应的模型"
   ]
  },
  {
   "cell_type": "code",
   "execution_count": 24,
   "metadata": {
    "collapsed": true
   },
   "outputs": [],
   "source": [
    "# TODO 4 可选\n",
    "\n",
    "'''\n",
    "不允许使用 DecisionTreeRegressor 以外的任何 sklearn 库\n",
    "\n",
    "提示: 你可能需要实现下面的 cross_val_score 函数\n",
    "\n",
    "def cross_val_score(estimator, X, y, scoring = performance_metric, cv=3):\n",
    "    \"\"\" 返回每组交叉验证的模型分数的数组 \"\"\"\n",
    "    scores = [0,0,0]\n",
    "    return scores\n",
    "'''\n",
    "\n",
    "\n",
    "def fit_model2(X, y):\n",
    "    \"\"\" 基于输入数据 [X,y]，利于网格搜索找到最优的决策树模型\"\"\"\n",
    "    \n",
    "    #最优交叉验证分数对应的最优模型\n",
    "    best_estimator = None\n",
    "    \n",
    "    return best_estimator"
   ]
  },
  {
   "cell_type": "markdown",
   "metadata": {},
   "source": [
    "### 问题 9 - 最优模型\n",
    "*最优模型的最大深度（maximum depth）是多少？此答案与你在**问题 6**所做的猜测是否相同？*\n",
    "\n",
    "运行下方区域内的代码，将决策树回归函数代入训练数据的集合，以得到最优化的模型。"
   ]
  },
  {
   "cell_type": "code",
   "execution_count": 25,
   "metadata": {
    "collapsed": false,
    "scrolled": true
   },
   "outputs": [
    {
     "name": "stdout",
     "output_type": "stream",
     "text": [
      "   mean_fit_time  mean_score_time  mean_test_score  mean_train_score  \\\n",
      "0         0.0032           0.0015         0.393190          0.473731   \n",
      "1         0.0015           0.0000         0.631778          0.737366   \n",
      "2         0.0000           0.0000         0.762798          0.833799   \n",
      "3         0.0031           0.0000         0.785469          0.879338   \n",
      "4         0.0047           0.0000         0.772051          0.907058   \n",
      "5         0.0047           0.0000         0.754203          0.930713   \n",
      "6         0.0000           0.0000         0.745826          0.947671   \n",
      "7         0.0032           0.0000         0.723695          0.960571   \n",
      "8         0.0031           0.0000         0.706571          0.973343   \n",
      "9         0.0015           0.0000         0.700541          0.981873   \n",
      "\n",
      "  param_max_depth              params  rank_test_score  split0_test_score  \\\n",
      "0               1   {u'max_depth': 1}               10           0.194234   \n",
      "1               2   {u'max_depth': 2}                9           0.471609   \n",
      "2               3   {u'max_depth': 3}                3           0.717627   \n",
      "3               4   {u'max_depth': 4}                1           0.796158   \n",
      "4               5   {u'max_depth': 5}                2           0.836390   \n",
      "5               6   {u'max_depth': 6}                4           0.825598   \n",
      "6               7   {u'max_depth': 7}                5           0.827053   \n",
      "7               8   {u'max_depth': 8}                6           0.827884   \n",
      "8               9   {u'max_depth': 9}                7           0.812598   \n",
      "9              10  {u'max_depth': 10}                8           0.836639   \n",
      "\n",
      "   split0_train_score  split1_test_score       ...         split7_test_score  \\\n",
      "0            0.469160           0.415338       ...                  0.267559   \n",
      "1            0.741135           0.710609       ...                  0.387501   \n",
      "2            0.823960           0.822457       ...                  0.623715   \n",
      "3            0.882243           0.809065       ...                  0.567373   \n",
      "4            0.905933           0.802132       ...                  0.457590   \n",
      "5            0.928771           0.743541       ...                  0.503865   \n",
      "6            0.948229           0.753236       ...                  0.463950   \n",
      "7            0.963058           0.714652       ...                  0.283455   \n",
      "8            0.974069           0.704642       ...                  0.263610   \n",
      "9            0.984353           0.716330       ...                  0.247464   \n",
      "\n",
      "   split7_train_score  split8_test_score  split8_train_score  \\\n",
      "0            0.483259           0.471616            0.471746   \n",
      "1            0.746803           0.597150            0.746662   \n",
      "2            0.850816           0.682798            0.854881   \n",
      "3            0.889232           0.737466            0.892401   \n",
      "4            0.912776           0.669542            0.921774   \n",
      "5            0.935707           0.628536            0.940745   \n",
      "6            0.951270           0.664265            0.954095   \n",
      "7            0.964522           0.675656            0.964230   \n",
      "8            0.977366           0.652833            0.977137   \n",
      "9            0.986401           0.648730            0.983786   \n",
      "\n",
      "   split9_test_score  split9_train_score  std_fit_time  std_score_time  \\\n",
      "0           0.520221            0.463880      0.006400          0.0045   \n",
      "1           0.712387            0.733332      0.004500          0.0000   \n",
      "2           0.847253            0.822417      0.000000          0.0000   \n",
      "3           0.847146            0.868057      0.006204          0.0000   \n",
      "4           0.873988            0.892596      0.007184          0.0000   \n",
      "5           0.906481            0.916308      0.007184          0.0000   \n",
      "6           0.906985            0.938554      0.000000          0.0000   \n",
      "7           0.895275            0.951154      0.006400          0.0000   \n",
      "8           0.888147            0.965189      0.006204          0.0000   \n",
      "9           0.867410            0.973816      0.004500          0.0000   \n",
      "\n",
      "   std_test_score  std_train_score  \n",
      "0        0.131937         0.008109  \n",
      "1        0.137609         0.007707  \n",
      "2        0.080297         0.011256  \n",
      "3        0.092111         0.008642  \n",
      "4        0.124495         0.007691  \n",
      "5        0.124405         0.006353  \n",
      "6        0.130750         0.004264  \n",
      "7        0.165995         0.004495  \n",
      "8        0.171007         0.003691  \n",
      "9        0.171457         0.003648  \n",
      "\n",
      "[10 rows x 31 columns]\n",
      "Parameter 'max_depth' is 4 for the optimal model.\n"
     ]
    }
   ],
   "source": [
    "# 基于训练数据，获得最优模型\n",
    "optimal_reg = fit_model(X_train, y_train)\n",
    "\n",
    "# 输出最优模型的 'max_depth' 参数\n",
    "print \"Parameter 'max_depth' is {} for the optimal model.\".format(optimal_reg.get_params()['max_depth'])"
   ]
  },
  {
   "cell_type": "markdown",
   "metadata": {},
   "source": [
    "### 问题 9 - 回答："
   ]
  },
  {
   "cell_type": "code",
   "execution_count": 10,
   "metadata": {
    "collapsed": false
   },
   "outputs": [],
   "source": [
    "# 和第六个问题的预测是一致的"
   ]
  },
  {
   "cell_type": "markdown",
   "metadata": {},
   "source": [
    "## 第六步. 做出预测\n",
    "当我们用数据训练出一个模型，它现在就可用于对新的数据进行预测。在决策树回归函数中，模型已经学会对新输入的数据*提问*，并返回对**目标变量**的预测值。你可以用这个预测来获取数据未知目标变量的信息，这些数据必须是不包含在训练数据之内的。"
   ]
  },
  {
   "cell_type": "markdown",
   "metadata": {},
   "source": [
    "### 问题 10 - 预测销售价格\n",
    "想像你是一个在波士顿地区的房屋经纪人，并期待使用此模型以帮助你的客户评估他们想出售的房屋。你已经从你的三个客户收集到以下的资讯:\n",
    "\n",
    "| 特征 | 客戶 1 | 客戶 2 | 客戶 3 |\n",
    "| :---: | :---: | :---: | :---: |\n",
    "| 房屋内房间总数 | 5 间房间 | 4 间房间 | 8 间房间 |\n",
    "| 社区贫困指数（％被认为是贫困阶层） | 17% | 32% | 3% |\n",
    "| 邻近学校的学生-老师比例 | 15：1 | 22：1 | 12：1 |\n",
    "\n",
    "*你会建议每位客户的房屋销售的价格为多少？从房屋特征的数值判断，这样的价格合理吗？为什么？* \n",
    "\n",
    "**提示：**用你在**分析数据**部分计算出来的统计信息来帮助你证明你的答案。\n",
    "\n",
    "运行下列的代码区域，使用你优化的模型来为每位客户的房屋价值做出预测。"
   ]
  },
  {
   "cell_type": "code",
   "execution_count": 27,
   "metadata": {
    "collapsed": false
   },
   "outputs": [
    {
     "name": "stdout",
     "output_type": "stream",
     "text": [
      "Predicted selling price for Client 1's home: $391,183.33\n",
      "Predicted selling price for Client 2's home: $189,123.53\n",
      "Predicted selling price for Client 3's home: $942,666.67\n"
     ]
    }
   ],
   "source": [
    "# 生成三个客户的数据\n",
    "client_data = [[5, 17, 15], # 客户 1\n",
    "               [4, 32, 22], # 客户 2\n",
    "               [8, 3, 12]]  # 客户 3\n",
    "\n",
    "# 进行预测\n",
    "predicted_price = optimal_reg.predict(client_data)\n",
    "for i, price in enumerate(predicted_price):\n",
    "    print \"Predicted selling price for Client {}'s home: ${:,.2f}\".format(i+1, price)"
   ]
  },
  {
   "cell_type": "markdown",
   "metadata": {},
   "source": [
    "### 问题 10 - 回答："
   ]
  },
  {
   "cell_type": "code",
   "execution_count": 28,
   "metadata": {
    "collapsed": true
   },
   "outputs": [],
   "source": [
    "# 预测出来的最高值942,666.67在 整体测试数据集最大值范围之内。\n",
    "# 预测出来的三个房价的均值和整体测试集的均值相差不太大，基于以上两点，预测出来的结果比较准确"
   ]
  },
  {
   "cell_type": "markdown",
   "metadata": {},
   "source": [
    "### 编程练习 5\n",
    "你刚刚预测了三个客户的房子的售价。在这个练习中，你将用你的最优模型在整个测试数据上进行预测, 并计算相对于目标变量的决定系数 R<sup>2</sup>的值**。"
   ]
  },
  {
   "cell_type": "code",
   "execution_count": 29,
   "metadata": {
    "collapsed": false
   },
   "outputs": [
    {
     "name": "stdout",
     "output_type": "stream",
     "text": [
      "Optimal model has R^2 score 0.77 on test data\n"
     ]
    }
   ],
   "source": [
    "#TODO 5\n",
    "\n",
    "# 提示：你可能需要用到 X_test, y_test, optimal_reg, performance_metric\n",
    "# 提示：你可能需要参考问题10的代码进行预测\n",
    "# 提示：你可能需要参考问题3的代码来计算R^2的值\n",
    "predicted_test = optimal_reg.predict(X_test)\n",
    "r2 = performance_metric(y_test,predicted_test)\n",
    "\n",
    "print \"Optimal model has R^2 score {:,.2f} on test data\".format(r2)"
   ]
  },
  {
   "cell_type": "markdown",
   "metadata": {},
   "source": [
    "### 问题11 - 分析决定系数\n",
    "\n",
    "你刚刚计算了最优模型在测试集上的决定系数，你会如何评价这个结果？"
   ]
  },
  {
   "cell_type": "markdown",
   "metadata": {},
   "source": [
    "### 问题11 - 回答"
   ]
  },
  {
   "cell_type": "code",
   "execution_count": 30,
   "metadata": {
    "collapsed": true
   },
   "outputs": [],
   "source": [
    "# 基本满足实际数据预测要求"
   ]
  },
  {
   "cell_type": "markdown",
   "metadata": {},
   "source": [
    "### 模型健壮性\n",
    "\n",
    "一个最优的模型不一定是一个健壮模型。有的时候模型会过于复杂或者过于简单，以致于难以泛化新增添的数据；有的时候模型采用的学习算法并不适用于特定的数据结构；有的时候样本本身可能有太多噪点或样本过少，使得模型无法准确地预测目标变量。这些情况下我们会说模型是欠拟合的。\n",
    "\n",
    "### 问题 12 - 模型健壮性\n",
    "\n",
    "模型是否足够健壮来保证预测的一致性？\n",
    "\n",
    "**提示**: 执行下方区域中的代码，采用不同的训练和测试集执行 `fit_model` 函数10次。注意观察对一个特定的客户来说，预测是如何随训练数据的变化而变化的。"
   ]
  },
  {
   "cell_type": "code",
   "execution_count": 31,
   "metadata": {
    "collapsed": false
   },
   "outputs": [
    {
     "name": "stdout",
     "output_type": "stream",
     "text": [
      "   mean_fit_time  mean_score_time  mean_test_score  mean_train_score  \\\n",
      "0         0.0031           0.0000         0.393190          0.473731   \n",
      "1         0.0016           0.0000         0.631778          0.737366   \n",
      "2         0.0032           0.0015         0.762798          0.833799   \n",
      "3         0.0015           0.0016         0.785469          0.879338   \n",
      "4         0.0031           0.0016         0.772051          0.907058   \n",
      "5         0.0016           0.0000         0.754203          0.930713   \n",
      "6         0.0032           0.0000         0.745826          0.947671   \n",
      "7         0.0000           0.0015         0.723695          0.960571   \n",
      "8         0.0032           0.0000         0.706571          0.973343   \n",
      "9         0.0031           0.0015         0.700541          0.981873   \n",
      "\n",
      "  param_max_depth              params  rank_test_score  split0_test_score  \\\n",
      "0               1   {u'max_depth': 1}               10           0.194234   \n",
      "1               2   {u'max_depth': 2}                9           0.471609   \n",
      "2               3   {u'max_depth': 3}                3           0.717627   \n",
      "3               4   {u'max_depth': 4}                1           0.796158   \n",
      "4               5   {u'max_depth': 5}                2           0.836390   \n",
      "5               6   {u'max_depth': 6}                4           0.825598   \n",
      "6               7   {u'max_depth': 7}                5           0.827053   \n",
      "7               8   {u'max_depth': 8}                6           0.827884   \n",
      "8               9   {u'max_depth': 9}                7           0.812598   \n",
      "9              10  {u'max_depth': 10}                8           0.836639   \n",
      "\n",
      "   split0_train_score  split1_test_score       ...         split7_test_score  \\\n",
      "0            0.469160           0.415338       ...                  0.267559   \n",
      "1            0.741135           0.710609       ...                  0.387501   \n",
      "2            0.823960           0.822457       ...                  0.623715   \n",
      "3            0.882243           0.809065       ...                  0.567373   \n",
      "4            0.905933           0.802132       ...                  0.457590   \n",
      "5            0.928771           0.743541       ...                  0.503865   \n",
      "6            0.948229           0.753236       ...                  0.463950   \n",
      "7            0.963058           0.714652       ...                  0.283455   \n",
      "8            0.974069           0.704642       ...                  0.263610   \n",
      "9            0.984353           0.716330       ...                  0.247464   \n",
      "\n",
      "   split7_train_score  split8_test_score  split8_train_score  \\\n",
      "0            0.483259           0.471616            0.471746   \n",
      "1            0.746803           0.597150            0.746662   \n",
      "2            0.850816           0.682798            0.854881   \n",
      "3            0.889232           0.737466            0.892401   \n",
      "4            0.912776           0.669542            0.921774   \n",
      "5            0.935707           0.628536            0.940745   \n",
      "6            0.951270           0.664265            0.954095   \n",
      "7            0.964522           0.675656            0.964230   \n",
      "8            0.977366           0.652833            0.977137   \n",
      "9            0.986401           0.648730            0.983786   \n",
      "\n",
      "   split9_test_score  split9_train_score  std_fit_time  std_score_time  \\\n",
      "0           0.520221            0.463880      0.006204          0.0000   \n",
      "1           0.712387            0.733332      0.004800          0.0000   \n",
      "2           0.847253            0.822417      0.006400          0.0045   \n",
      "3           0.847146            0.868057      0.004500          0.0048   \n",
      "4           0.873988            0.892596      0.006204          0.0048   \n",
      "5           0.906481            0.916308      0.004800          0.0000   \n",
      "6           0.906985            0.938554      0.006400          0.0000   \n",
      "7           0.895275            0.951154      0.000000          0.0045   \n",
      "8           0.888147            0.965189      0.006400          0.0000   \n",
      "9           0.867410            0.973816      0.006204          0.0045   \n",
      "\n",
      "   std_test_score  std_train_score  \n",
      "0        0.131937         0.008109  \n",
      "1        0.137609         0.007707  \n",
      "2        0.080297         0.011256  \n",
      "3        0.092111         0.008642  \n",
      "4        0.124495         0.007691  \n",
      "5        0.124405         0.006353  \n",
      "6        0.130750         0.004264  \n",
      "7        0.165995         0.004495  \n",
      "8        0.171007         0.003691  \n",
      "9        0.171457         0.003648  \n",
      "\n",
      "[10 rows x 31 columns]\n",
      "Trial 1: $391,183.33\n",
      "   mean_fit_time  mean_score_time  mean_test_score  mean_train_score  \\\n",
      "0         0.0016           0.0000         0.310136          0.454160   \n",
      "1         0.0016           0.0015         0.590313          0.717310   \n",
      "2         0.0031           0.0000         0.751535          0.826676   \n",
      "3         0.0000           0.0000         0.800691          0.874191   \n",
      "4         0.0032           0.0000         0.774117          0.898498   \n",
      "5         0.0000           0.0000         0.780256          0.919842   \n",
      "6         0.0032           0.0015         0.743402          0.942503   \n",
      "7         0.0016           0.0015         0.722648          0.960146   \n",
      "8         0.0016           0.0000         0.713577          0.973923   \n",
      "9         0.0031           0.0000         0.701085          0.983767   \n",
      "\n",
      "  param_max_depth              params  rank_test_score  split0_test_score  \\\n",
      "0               1   {u'max_depth': 1}               10           0.210119   \n",
      "1               2   {u'max_depth': 2}                9           0.500780   \n",
      "2               3   {u'max_depth': 3}                4           0.679404   \n",
      "3               4   {u'max_depth': 4}                1           0.767350   \n",
      "4               5   {u'max_depth': 5}                3           0.770766   \n",
      "5               6   {u'max_depth': 6}                2           0.797263   \n",
      "6               7   {u'max_depth': 7}                5           0.754567   \n",
      "7               8   {u'max_depth': 8}                6           0.726551   \n",
      "8               9   {u'max_depth': 9}                7           0.692016   \n",
      "9              10  {u'max_depth': 10}                8           0.681067   \n",
      "\n",
      "   split0_train_score  split1_test_score       ...         split7_test_score  \\\n",
      "0            0.462134           0.472819       ...                  0.496656   \n",
      "1            0.716903           0.772209       ...                  0.749931   \n",
      "2            0.830980           0.899792       ...                  0.846707   \n",
      "3            0.876156           0.918192       ...                  0.860847   \n",
      "4            0.898130           0.909956       ...                  0.827393   \n",
      "5            0.919921           0.904521       ...                  0.840311   \n",
      "6            0.940778           0.901477       ...                  0.807913   \n",
      "7            0.958685           0.883508       ...                  0.756893   \n",
      "8            0.977113           0.880834       ...                  0.799113   \n",
      "9            0.985665           0.858304       ...                  0.827171   \n",
      "\n",
      "   split7_train_score  split8_test_score  split8_train_score  \\\n",
      "0            0.439799           0.435258            0.450383   \n",
      "1            0.710955           0.725934            0.707221   \n",
      "2            0.818910           0.854603            0.820856   \n",
      "3            0.866256           0.820743            0.870280   \n",
      "4            0.891492           0.842257            0.896322   \n",
      "5            0.910289           0.794539            0.917420   \n",
      "6            0.933844           0.736777            0.943491   \n",
      "7            0.955788           0.703831            0.961424   \n",
      "8            0.969384           0.714036            0.977760   \n",
      "9            0.979528           0.740659            0.987669   \n",
      "\n",
      "   split9_test_score  split9_train_score  std_fit_time  std_score_time  \\\n",
      "0           0.285494            0.464314      0.004800          0.0000   \n",
      "1           0.542213            0.723917      0.004800          0.0045   \n",
      "2           0.757253            0.828578      0.006204          0.0000   \n",
      "3           0.773894            0.875598      0.000000          0.0000   \n",
      "4           0.699591            0.901427      0.006400          0.0000   \n",
      "5           0.682354            0.923013      0.000000          0.0000   \n",
      "6           0.676665            0.945123      0.006400          0.0045   \n",
      "7           0.672631            0.959366      0.004800          0.0045   \n",
      "8           0.609583            0.974304      0.004800          0.0000   \n",
      "9           0.596184            0.986709      0.006204          0.0000   \n",
      "\n",
      "   std_test_score  std_train_score  \n",
      "0        0.232505         0.010089  \n",
      "1        0.223924         0.011716  \n",
      "2        0.157317         0.007172  \n",
      "3        0.090503         0.004957  \n",
      "4        0.109594         0.004018  \n",
      "5        0.100182         0.003981  \n",
      "6        0.115663         0.003761  \n",
      "7        0.107100         0.003150  \n",
      "8        0.114850         0.003053  \n",
      "9        0.135855         0.003687  \n",
      "\n",
      "[10 rows x 31 columns]\n",
      "Trial 2: $411,417.39\n",
      "   mean_fit_time  mean_score_time  mean_test_score  mean_train_score  \\\n",
      "0         0.0031            0.000         0.284290          0.463208   \n",
      "1         0.0016            0.000         0.591132          0.729603   \n",
      "2         0.0000            0.000         0.724765          0.822991   \n",
      "3         0.0015            0.000         0.777158          0.873201   \n",
      "4         0.0016            0.000         0.737959          0.904909   \n",
      "5         0.0031            0.000         0.709127          0.930467   \n",
      "6         0.0032            0.000         0.696477          0.950848   \n",
      "7         0.0032            0.000         0.661453          0.964398   \n",
      "8         0.0016            0.000         0.660264          0.975578   \n",
      "9         0.0032            0.003         0.615695          0.986971   \n",
      "\n",
      "  param_max_depth              params  rank_test_score  split0_test_score  \\\n",
      "0               1   {u'max_depth': 1}               10           0.265810   \n",
      "1               2   {u'max_depth': 2}                9           0.543066   \n",
      "2               3   {u'max_depth': 3}                3           0.656905   \n",
      "3               4   {u'max_depth': 4}                1           0.736697   \n",
      "4               5   {u'max_depth': 5}                2           0.648859   \n",
      "5               6   {u'max_depth': 6}                4           0.658762   \n",
      "6               7   {u'max_depth': 7}                5           0.676903   \n",
      "7               8   {u'max_depth': 8}                6           0.676706   \n",
      "8               9   {u'max_depth': 9}                7           0.658860   \n",
      "9              10  {u'max_depth': 10}                8           0.660339   \n",
      "\n",
      "   split0_train_score  split1_test_score       ...         split7_test_score  \\\n",
      "0            0.473114           0.293255       ...                  0.153978   \n",
      "1            0.737295           0.705953       ...                  0.487443   \n",
      "2            0.821185           0.729958       ...                  0.618893   \n",
      "3            0.874186           0.803507       ...                  0.746409   \n",
      "4            0.908080           0.771514       ...                  0.821793   \n",
      "5            0.933313           0.786644       ...                  0.802955   \n",
      "6            0.948397           0.724990       ...                  0.731404   \n",
      "7            0.962913           0.703454       ...                  0.737055   \n",
      "8            0.978919           0.680720       ...                  0.679419   \n",
      "9            0.988581           0.633648       ...                  0.707996   \n",
      "\n",
      "   split7_train_score  split8_test_score  split8_train_score  \\\n",
      "0            0.467318           0.439478            0.449972   \n",
      "1            0.730037           0.641108            0.730154   \n",
      "2            0.827069           0.743917            0.827837   \n",
      "3            0.872653           0.771163            0.874649   \n",
      "4            0.902459           0.712062            0.906072   \n",
      "5            0.929379           0.650954            0.932952   \n",
      "6            0.949116           0.654354            0.960527   \n",
      "7            0.959849           0.608807            0.972976   \n",
      "8            0.972046           0.592671            0.981652   \n",
      "9            0.986201           0.566327            0.988465   \n",
      "\n",
      "   split9_test_score  split9_train_score  std_fit_time  std_score_time  \\\n",
      "0           0.043587            0.473614      0.006204           0.000   \n",
      "1           0.308494            0.739301      0.004800           0.000   \n",
      "2           0.653696            0.822551      0.000000           0.000   \n",
      "3           0.622640            0.876750      0.004500           0.000   \n",
      "4           0.449398            0.913945      0.004800           0.000   \n",
      "5           0.349878            0.937978      0.006204           0.000   \n",
      "6           0.368223            0.953313      0.006400           0.000   \n",
      "7           0.369621            0.967112      0.006400           0.000   \n",
      "8           0.398331            0.979172      0.004800           0.000   \n",
      "9           0.095628            0.991711      0.006400           0.006   \n",
      "\n",
      "   std_test_score  std_train_score  \n",
      "0        0.145032         0.012991  \n",
      "1        0.128555         0.009404  \n",
      "2        0.079010         0.006957  \n",
      "3        0.072777         0.004842  \n",
      "4        0.115583         0.007052  \n",
      "5        0.147125         0.006856  \n",
      "6        0.129291         0.007336  \n",
      "7        0.135799         0.007384  \n",
      "8        0.120627         0.005657  \n",
      "9        0.194198         0.003218  \n",
      "\n",
      "[10 rows x 31 columns]\n",
      "Trial 3: $415,800.00\n",
      "   mean_fit_time  mean_score_time  mean_test_score  mean_train_score  \\\n",
      "0         0.0031           0.0000         0.311342          0.466165   \n",
      "1         0.0016           0.0000         0.665772          0.740494   \n",
      "2         0.0031           0.0000         0.713955          0.828667   \n",
      "3         0.0016           0.0000         0.730672          0.882668   \n",
      "4         0.0032           0.0000         0.719841          0.908551   \n",
      "5         0.0046           0.0000         0.704028          0.929668   \n",
      "6         0.0016           0.0016         0.698127          0.946685   \n",
      "7         0.0015           0.0000         0.685149          0.960296   \n",
      "8         0.0032           0.0000         0.668368          0.971708   \n",
      "9         0.0031           0.0015         0.666558          0.982111   \n",
      "\n",
      "  param_max_depth              params  rank_test_score  split0_test_score  \\\n",
      "0               1   {u'max_depth': 1}               10           0.278605   \n",
      "1               2   {u'max_depth': 2}                9           0.567184   \n",
      "2               3   {u'max_depth': 3}                3           0.700169   \n",
      "3               4   {u'max_depth': 4}                1           0.775527   \n",
      "4               5   {u'max_depth': 5}                2           0.785119   \n",
      "5               6   {u'max_depth': 6}                4           0.751756   \n",
      "6               7   {u'max_depth': 7}                5           0.743482   \n",
      "7               8   {u'max_depth': 8}                6           0.743697   \n",
      "8               9   {u'max_depth': 9}                7           0.735654   \n",
      "9              10  {u'max_depth': 10}                8           0.744918   \n",
      "\n",
      "   split0_train_score  split1_test_score       ...         split7_test_score  \\\n",
      "0            0.472874           0.398334       ...                  0.116998   \n",
      "1            0.749554           0.715457       ...                  0.565408   \n",
      "2            0.834831           0.660987       ...                  0.593001   \n",
      "3            0.887656           0.655981       ...                  0.681177   \n",
      "4            0.907093           0.645207       ...                  0.709198   \n",
      "5            0.925649           0.656498       ...                  0.733547   \n",
      "6            0.943274           0.636775       ...                  0.768883   \n",
      "7            0.958479           0.628983       ...                  0.728867   \n",
      "8            0.967843           0.617603       ...                  0.712970   \n",
      "9            0.979355           0.619539       ...                  0.716791   \n",
      "\n",
      "   split7_train_score  split8_test_score  split8_train_score  \\\n",
      "0            0.484773           0.473678            0.450116   \n",
      "1            0.749900           0.704611            0.734759   \n",
      "2            0.835832           0.802374            0.817246   \n",
      "3            0.890609           0.834427            0.872508   \n",
      "4            0.918178           0.749769            0.903739   \n",
      "5            0.936019           0.763048            0.924688   \n",
      "6            0.952296           0.731461            0.940969   \n",
      "7            0.966730           0.750764            0.958998   \n",
      "8            0.975616           0.724035            0.971143   \n",
      "9            0.984575           0.710386            0.982474   \n",
      "\n",
      "   split9_test_score  split9_train_score  std_fit_time  std_score_time  \\\n",
      "0           0.328822            0.470407      0.006204          0.0000   \n",
      "1           0.656162            0.743812      0.004800          0.0000   \n",
      "2           0.763536            0.825098      0.006204          0.0000   \n",
      "3           0.766357            0.882471      0.004800          0.0000   \n",
      "4           0.788388            0.907366      0.006400          0.0000   \n",
      "5           0.745191            0.928778      0.007031          0.0000   \n",
      "6           0.726610            0.947040      0.004800          0.0048   \n",
      "7           0.716009            0.962921      0.004500          0.0000   \n",
      "8           0.699998            0.972486      0.006400          0.0000   \n",
      "9           0.669810            0.981631      0.006204          0.0045   \n",
      "\n",
      "   std_test_score  std_train_score  \n",
      "0        0.119221         0.012669  \n",
      "1        0.066597         0.006696  \n",
      "2        0.094332         0.006379  \n",
      "3        0.113117         0.005457  \n",
      "4        0.104030         0.005232  \n",
      "5        0.102726         0.005619  \n",
      "6        0.101297         0.004610  \n",
      "7        0.106399         0.004757  \n",
      "8        0.103407         0.004174  \n",
      "9        0.124574         0.003156  \n",
      "\n",
      "[10 rows x 31 columns]\n",
      "Trial 4: $420,622.22\n",
      "   mean_fit_time  mean_score_time  mean_test_score  mean_train_score  \\\n",
      "0         0.0000           0.0000         0.387621          0.463021   \n",
      "1         0.0000           0.0016         0.652468          0.728764   \n",
      "2         0.0000           0.0031         0.725595          0.814739   \n",
      "3         0.0031           0.0000         0.745500          0.861965   \n",
      "4         0.0031           0.0016         0.758714          0.890038   \n",
      "5         0.0000           0.0000         0.752248          0.914886   \n",
      "6         0.0032           0.0000         0.702498          0.938796   \n",
      "7         0.0015           0.0000         0.675232          0.956161   \n",
      "8         0.0000           0.0000         0.656676          0.971236   \n",
      "9         0.0031           0.0031         0.668832          0.980829   \n",
      "\n",
      "  param_max_depth              params  rank_test_score  split0_test_score  \\\n",
      "0               1   {u'max_depth': 1}               10           0.384088   \n",
      "1               2   {u'max_depth': 2}                9           0.688755   \n",
      "2               3   {u'max_depth': 3}                4           0.827556   \n",
      "3               4   {u'max_depth': 4}                3           0.866588   \n",
      "4               5   {u'max_depth': 5}                1           0.873182   \n",
      "5               6   {u'max_depth': 6}                2           0.862635   \n",
      "6               7   {u'max_depth': 7}                5           0.880652   \n",
      "7               8   {u'max_depth': 8}                6           0.840324   \n",
      "8               9   {u'max_depth': 9}                8           0.860415   \n",
      "9              10  {u'max_depth': 10}                7           0.837025   \n",
      "\n",
      "   split0_train_score  split1_test_score       ...         split7_test_score  \\\n",
      "0            0.452975           0.273285       ...                  0.345637   \n",
      "1            0.725017           0.688703       ...                  0.590021   \n",
      "2            0.813401           0.798573       ...                  0.708735   \n",
      "3            0.857468           0.789698       ...                  0.659508   \n",
      "4            0.886493           0.799370       ...                  0.670420   \n",
      "5            0.919610           0.813000       ...                  0.679271   \n",
      "6            0.938504           0.748851       ...                  0.633856   \n",
      "7            0.956832           0.686917       ...                  0.618554   \n",
      "8            0.970890           0.687705       ...                  0.635765   \n",
      "9            0.982374           0.626003       ...                  0.635060   \n",
      "\n",
      "   split7_train_score  split8_test_score  split8_train_score  \\\n",
      "0            0.460046           0.459013            0.460882   \n",
      "1            0.736989           0.751806            0.720219   \n",
      "2            0.827812           0.782939            0.801084   \n",
      "3            0.875774           0.813629            0.852994   \n",
      "4            0.901122           0.830103            0.888265   \n",
      "5            0.926930           0.843521            0.915782   \n",
      "6            0.946800           0.840497            0.945790   \n",
      "7            0.966312           0.820679            0.958358   \n",
      "8            0.978033           0.795239            0.968620   \n",
      "9            0.988612           0.798352            0.974651   \n",
      "\n",
      "   split9_test_score  split9_train_score  std_fit_time  std_score_time  \\\n",
      "0           0.388579            0.470304      0.000000        0.000000   \n",
      "1           0.740152            0.722655      0.000000        0.004800   \n",
      "2           0.809892            0.814899      0.000000        0.006204   \n",
      "3           0.816820            0.861828      0.006204        0.000000   \n",
      "4           0.836971            0.886708      0.006204        0.004800   \n",
      "5           0.845974            0.911452      0.000000        0.000000   \n",
      "6           0.847183            0.939495      0.006400        0.000000   \n",
      "7           0.806197            0.954067      0.004500        0.000000   \n",
      "8           0.835137            0.970350      0.000000        0.000000   \n",
      "9           0.820229            0.979908      0.006204        0.006204   \n",
      "\n",
      "   std_test_score  std_train_score  \n",
      "0        0.102129         0.009457  \n",
      "1        0.092311         0.006256  \n",
      "2        0.119136         0.007882  \n",
      "3        0.123041         0.006740  \n",
      "4        0.094325         0.004515  \n",
      "5        0.126852         0.005929  \n",
      "6        0.151222         0.005091  \n",
      "7        0.151148         0.004545  \n",
      "8        0.176352         0.003055  \n",
      "9        0.152390         0.003511  \n",
      "\n",
      "[10 rows x 31 columns]\n",
      "Trial 5: $418,377.27\n",
      "   mean_fit_time  mean_score_time  mean_test_score  mean_train_score  \\\n",
      "0         0.0015              0.0         0.361176          0.466220   \n",
      "1         0.0000              0.0         0.604993          0.718059   \n",
      "2         0.0016              0.0         0.705710          0.810835   \n",
      "3         0.0016              0.0         0.775169          0.861688   \n",
      "4         0.0000              0.0         0.752558          0.891674   \n",
      "5         0.0047              0.0         0.718531          0.919992   \n",
      "6         0.0047              0.0         0.706069          0.941605   \n",
      "7         0.0031              0.0         0.683255          0.958853   \n",
      "8         0.0031              0.0         0.672007          0.972114   \n",
      "9         0.0062              0.0         0.673045          0.981763   \n",
      "\n",
      "  param_max_depth              params  rank_test_score  split0_test_score  \\\n",
      "0               1   {u'max_depth': 1}               10          -0.073687   \n",
      "1               2   {u'max_depth': 2}                9           0.449954   \n",
      "2               3   {u'max_depth': 3}                5           0.614706   \n",
      "3               4   {u'max_depth': 4}                1           0.643288   \n",
      "4               5   {u'max_depth': 5}                2           0.605597   \n",
      "5               6   {u'max_depth': 6}                3           0.587887   \n",
      "6               7   {u'max_depth': 7}                4           0.540913   \n",
      "7               8   {u'max_depth': 8}                6           0.542700   \n",
      "8               9   {u'max_depth': 9}                8           0.479778   \n",
      "9              10  {u'max_depth': 10}                7           0.460691   \n",
      "\n",
      "   split0_train_score  split1_test_score       ...         split7_test_score  \\\n",
      "0            0.463216           0.554913       ...                  0.432296   \n",
      "1            0.716189           0.705408       ...                  0.540063   \n",
      "2            0.805416           0.849209       ...                  0.628525   \n",
      "3            0.867852           0.841833       ...                  0.731969   \n",
      "4            0.892920           0.782324       ...                  0.705585   \n",
      "5            0.913731           0.735357       ...                  0.703826   \n",
      "6            0.936092           0.812356       ...                  0.667884   \n",
      "7            0.955259           0.778612       ...                  0.666041   \n",
      "8            0.972707           0.820191       ...                  0.639177   \n",
      "9            0.983542           0.813687       ...                  0.614681   \n",
      "\n",
      "   split7_train_score  split8_test_score  split8_train_score  \\\n",
      "0            0.468080           0.446213            0.467832   \n",
      "1            0.729791           0.722804            0.712662   \n",
      "2            0.822580           0.816829            0.804646   \n",
      "3            0.872094           0.840685            0.853767   \n",
      "4            0.899811           0.827882            0.881137   \n",
      "5            0.928465           0.768787            0.909277   \n",
      "6            0.949163           0.724774            0.932796   \n",
      "7            0.968554           0.755840            0.953753   \n",
      "8            0.979058           0.763481            0.969333   \n",
      "9            0.987165           0.731066            0.978048   \n",
      "\n",
      "   split9_test_score  split9_train_score  std_fit_time  std_score_time  \\\n",
      "0           0.310872            0.471431      0.004500             0.0   \n",
      "1           0.481227            0.725851      0.000000             0.0   \n",
      "2           0.589678            0.816061      0.004800             0.0   \n",
      "3           0.825546            0.859642      0.004800             0.0   \n",
      "4           0.783756            0.892800      0.000000             0.0   \n",
      "5           0.673564            0.925993      0.007184             0.0   \n",
      "6           0.685944            0.944740      0.007184             0.0   \n",
      "7           0.622901            0.964662      0.006204             0.0   \n",
      "8           0.580783            0.976696      0.006204             0.0   \n",
      "9           0.638801            0.984862      0.007600             0.0   \n",
      "\n",
      "   std_test_score  std_train_score  \n",
      "0        0.166050         0.006654  \n",
      "1        0.141652         0.007571  \n",
      "2        0.101718         0.008426  \n",
      "3        0.062715         0.006671  \n",
      "4        0.063906         0.005882  \n",
      "5        0.061088         0.005776  \n",
      "6        0.079399         0.005008  \n",
      "7        0.073046         0.004785  \n",
      "8        0.095152         0.003333  \n",
      "9        0.091306         0.003210  \n",
      "\n",
      "[10 rows x 31 columns]\n",
      "Trial 6: $411,931.58\n",
      "   mean_fit_time  mean_score_time  mean_test_score  mean_train_score  \\\n",
      "0         0.0000           0.0015         0.388746          0.493674   \n",
      "1         0.0031           0.0000         0.664215          0.755924   \n",
      "2         0.0000           0.0000         0.730673          0.834095   \n",
      "3         0.0015           0.0000         0.790900          0.879674   \n",
      "4         0.0000           0.0031         0.758649          0.910109   \n",
      "5         0.0016           0.0000         0.747604          0.931152   \n",
      "6         0.0000           0.0015         0.733088          0.948486   \n",
      "7         0.0000           0.0000         0.741175          0.964840   \n",
      "8         0.0016           0.0000         0.713758          0.975617   \n",
      "9         0.0032           0.0000         0.711052          0.983751   \n",
      "\n",
      "  param_max_depth              params  rank_test_score  split0_test_score  \\\n",
      "0               1   {u'max_depth': 1}               10           0.237121   \n",
      "1               2   {u'max_depth': 2}                9           0.482485   \n",
      "2               3   {u'max_depth': 3}                6           0.649260   \n",
      "3               4   {u'max_depth': 4}                1           0.761851   \n",
      "4               5   {u'max_depth': 5}                2           0.756705   \n",
      "5               6   {u'max_depth': 6}                3           0.701515   \n",
      "6               7   {u'max_depth': 7}                5           0.682378   \n",
      "7               8   {u'max_depth': 8}                4           0.679341   \n",
      "8               9   {u'max_depth': 9}                7           0.635455   \n",
      "9              10  {u'max_depth': 10}                8           0.682927   \n",
      "\n",
      "   split0_train_score  split1_test_score       ...         split7_test_score  \\\n",
      "0            0.499565           0.418301       ...                  0.382052   \n",
      "1            0.765908           0.702356       ...                  0.667657   \n",
      "2            0.834852           0.734237       ...                  0.630032   \n",
      "3            0.879314           0.774323       ...                  0.765592   \n",
      "4            0.910099           0.770691       ...                  0.637504   \n",
      "5            0.928961           0.783688       ...                  0.641558   \n",
      "6            0.947146           0.754440       ...                  0.613738   \n",
      "7            0.965693           0.781549       ...                  0.605194   \n",
      "8            0.974467           0.809477       ...                  0.555940   \n",
      "9            0.980394           0.787959       ...                  0.566229   \n",
      "\n",
      "   split7_train_score  split8_test_score  split8_train_score  \\\n",
      "0            0.500281           0.401727            0.495737   \n",
      "1            0.762075           0.700339            0.757123   \n",
      "2            0.838272           0.745277            0.833835   \n",
      "3            0.885546           0.773267            0.876003   \n",
      "4            0.908673           0.790408            0.914379   \n",
      "5            0.929480           0.753404            0.935423   \n",
      "6            0.945491           0.741299            0.952179   \n",
      "7            0.963804           0.823391            0.966631   \n",
      "8            0.974718           0.712182            0.980053   \n",
      "9            0.983084           0.690587            0.988879   \n",
      "\n",
      "   split9_test_score  split9_train_score  std_fit_time  std_score_time  \\\n",
      "0           0.459356            0.492747      0.000000        0.004500   \n",
      "1           0.686457            0.760293      0.006204        0.000000   \n",
      "2           0.765833            0.835764      0.000000        0.000000   \n",
      "3           0.768569            0.879881      0.004500        0.000000   \n",
      "4           0.806708            0.916027      0.000000        0.006204   \n",
      "5           0.799908            0.934929      0.004800        0.000000   \n",
      "6           0.798157            0.951459      0.000000        0.004500   \n",
      "7           0.790773            0.968453      0.000000        0.000000   \n",
      "8           0.809184            0.977330      0.004800        0.000000   \n",
      "9           0.778307            0.984776      0.006400        0.000000   \n",
      "\n",
      "   std_test_score  std_train_score  \n",
      "0        0.113746         0.008845  \n",
      "1        0.085687         0.007885  \n",
      "2        0.058388         0.003964  \n",
      "3        0.033385         0.004672  \n",
      "4        0.052555         0.005166  \n",
      "5        0.060419         0.004969  \n",
      "6        0.069891         0.005170  \n",
      "7        0.084017         0.004557  \n",
      "8        0.094986         0.004162  \n",
      "9        0.078276         0.003776  \n",
      "\n",
      "[10 rows x 31 columns]\n",
      "Trial 7: $399,663.16\n",
      "   mean_fit_time  mean_score_time  mean_test_score  mean_train_score  \\\n",
      "0         0.0000              0.0         0.339337          0.462622   \n",
      "1         0.0016              0.0         0.613596          0.716349   \n",
      "2         0.0000              0.0         0.717293          0.814447   \n",
      "3         0.0000              0.0         0.764586          0.861305   \n",
      "4         0.0031              0.0         0.757523          0.890116   \n",
      "5         0.0031              0.0         0.731715          0.918907   \n",
      "6         0.0078              0.0         0.726682          0.941932   \n",
      "7         0.0031              0.0         0.719014          0.960117   \n",
      "8         0.0047              0.0         0.709396          0.975233   \n",
      "9         0.0031              0.0         0.682525          0.985248   \n",
      "\n",
      "  param_max_depth              params  rank_test_score  split0_test_score  \\\n",
      "0               1   {u'max_depth': 1}               10           0.490164   \n",
      "1               2   {u'max_depth': 2}                9           0.635609   \n",
      "2               3   {u'max_depth': 3}                6           0.744899   \n",
      "3               4   {u'max_depth': 4}                1           0.788493   \n",
      "4               5   {u'max_depth': 5}                2           0.829350   \n",
      "5               6   {u'max_depth': 6}                3           0.751432   \n",
      "6               7   {u'max_depth': 7}                4           0.793406   \n",
      "7               8   {u'max_depth': 8}                5           0.720737   \n",
      "8               9   {u'max_depth': 9}                7           0.793490   \n",
      "9              10  {u'max_depth': 10}                8           0.778835   \n",
      "\n",
      "   split0_train_score  split1_test_score       ...         split7_test_score  \\\n",
      "0            0.453781           0.426688       ...                  0.332552   \n",
      "1            0.704286           0.609303       ...                  0.498158   \n",
      "2            0.819533           0.735504       ...                  0.783096   \n",
      "3            0.867081           0.796597       ...                  0.841991   \n",
      "4            0.890474           0.696754       ...                  0.830176   \n",
      "5            0.919012           0.688930       ...                  0.698188   \n",
      "6            0.941120           0.732675       ...                  0.703341   \n",
      "7            0.959617           0.688430       ...                  0.727141   \n",
      "8            0.972318           0.663716       ...                  0.728966   \n",
      "9            0.983602           0.682838       ...                  0.718867   \n",
      "\n",
      "   split7_train_score  split8_test_score  split8_train_score  \\\n",
      "0            0.466562           0.236459            0.464919   \n",
      "1            0.722641           0.691006            0.728155   \n",
      "2            0.808940           0.743442            0.820208   \n",
      "3            0.855437           0.768066            0.867043   \n",
      "4            0.883155           0.695041            0.898916   \n",
      "5            0.911932           0.629289            0.929664   \n",
      "6            0.936120           0.651292            0.951671   \n",
      "7            0.952695           0.687143            0.969178   \n",
      "8            0.970076           0.584035            0.979995   \n",
      "9            0.983280           0.529542            0.989109   \n",
      "\n",
      "   split9_test_score  split9_train_score  std_fit_time  std_score_time  \\\n",
      "0           0.404285            0.453689      0.000000             0.0   \n",
      "1           0.683470            0.725003      0.004800             0.0   \n",
      "2           0.768686            0.821126      0.000000             0.0   \n",
      "3           0.757520            0.870777      0.000000             0.0   \n",
      "4           0.733444            0.899928      0.006204             0.0   \n",
      "5           0.735376            0.924708      0.006204             0.0   \n",
      "6           0.706626            0.950363      0.014428             0.0   \n",
      "7           0.735298            0.968007      0.006204             0.0   \n",
      "8           0.750002            0.980670      0.007184             0.0   \n",
      "9           0.719860            0.987300      0.006204             0.0   \n",
      "\n",
      "   std_test_score  std_train_score  \n",
      "0        0.111059         0.006304  \n",
      "1        0.081193         0.007497  \n",
      "2        0.077359         0.006499  \n",
      "3        0.070565         0.006004  \n",
      "4        0.077313         0.006040  \n",
      "5        0.060360         0.005978  \n",
      "6        0.062395         0.007015  \n",
      "7        0.083686         0.005777  \n",
      "8        0.081442         0.003517  \n",
      "9        0.089841         0.002204  \n",
      "\n",
      "[10 rows x 31 columns]\n",
      "Trial 8: $407,232.00\n",
      "   mean_fit_time  mean_score_time  mean_test_score  mean_train_score  \\\n",
      "0         0.0016              0.0         0.424432          0.466548   \n",
      "1         0.0016              0.0         0.656331          0.721694   \n",
      "2         0.0000              0.0         0.752056          0.820508   \n",
      "3         0.0015              0.0         0.781153          0.869823   \n",
      "4         0.0015              0.0         0.746504          0.898637   \n",
      "5         0.0016              0.0         0.726611          0.922907   \n",
      "6         0.0015              0.0         0.706560          0.943675   \n",
      "7         0.0031              0.0         0.702309          0.959623   \n",
      "8         0.0031              0.0         0.680334          0.972362   \n",
      "9         0.0031              0.0         0.668935          0.980936   \n",
      "\n",
      "  param_max_depth              params  rank_test_score  split0_test_score  \\\n",
      "0               1   {u'max_depth': 1}               10           0.505282   \n",
      "1               2   {u'max_depth': 2}                9           0.700016   \n",
      "2               3   {u'max_depth': 3}                2           0.768438   \n",
      "3               4   {u'max_depth': 4}                1           0.761214   \n",
      "4               5   {u'max_depth': 5}                3           0.767976   \n",
      "5               6   {u'max_depth': 6}                4           0.763170   \n",
      "6               7   {u'max_depth': 7}                5           0.740351   \n",
      "7               8   {u'max_depth': 8}                6           0.687776   \n",
      "8               9   {u'max_depth': 9}                7           0.749140   \n",
      "9              10  {u'max_depth': 10}                8           0.691390   \n",
      "\n",
      "   split0_train_score  split1_test_score       ...         split7_test_score  \\\n",
      "0            0.461015           0.371609       ...                  0.341878   \n",
      "1            0.722964           0.646119       ...                  0.645604   \n",
      "2            0.825734           0.827089       ...                  0.761661   \n",
      "3            0.867819           0.847146       ...                  0.755540   \n",
      "4            0.897147           0.829430       ...                  0.701890   \n",
      "5            0.929187           0.787903       ...                  0.761287   \n",
      "6            0.950756           0.749657       ...                  0.650891   \n",
      "7            0.967313           0.758520       ...                  0.747358   \n",
      "8            0.975111           0.784045       ...                  0.716154   \n",
      "9            0.981685           0.738305       ...                  0.725121   \n",
      "\n",
      "   split7_train_score  split8_test_score  split8_train_score  \\\n",
      "0            0.470645           0.506933            0.461173   \n",
      "1            0.726406           0.722089            0.719966   \n",
      "2            0.814009           0.758390            0.826435   \n",
      "3            0.868167           0.692706            0.882657   \n",
      "4            0.894096           0.690997            0.910079   \n",
      "5            0.918810           0.648592            0.931725   \n",
      "6            0.940403           0.649276            0.950704   \n",
      "7            0.956019           0.642433            0.966645   \n",
      "8            0.969562           0.641337            0.976098   \n",
      "9            0.979153           0.624994            0.985731   \n",
      "\n",
      "   split9_test_score  split9_train_score  std_fit_time  std_score_time  \\\n",
      "0           0.438253            0.463718      0.004800             0.0   \n",
      "1           0.642030            0.718300      0.004800             0.0   \n",
      "2           0.768781            0.817209      0.000000             0.0   \n",
      "3           0.868658            0.868802      0.004500             0.0   \n",
      "4           0.840720            0.898037      0.004500             0.0   \n",
      "5           0.824471            0.921053      0.004800             0.0   \n",
      "6           0.822828            0.940947      0.004500             0.0   \n",
      "7           0.812652            0.957721      0.006204             0.0   \n",
      "8           0.762346            0.974406      0.006204             0.0   \n",
      "9           0.712064            0.980791      0.006204             0.0   \n",
      "\n",
      "   std_test_score  std_train_score  \n",
      "0        0.080368         0.006867  \n",
      "1        0.076972         0.006580  \n",
      "2        0.072080         0.005208  \n",
      "3        0.057146         0.005728  \n",
      "4        0.089144         0.005824  \n",
      "5        0.087978         0.005406  \n",
      "6        0.095308         0.004341  \n",
      "7        0.091811         0.004287  \n",
      "8        0.099505         0.002970  \n",
      "9        0.093341         0.003654  \n",
      "\n",
      "[10 rows x 31 columns]\n",
      "Trial 9: $402,531.82\n",
      "   mean_fit_time  mean_score_time  mean_test_score  mean_train_score  \\\n",
      "0         0.0015           0.0000         0.327544          0.432948   \n",
      "1         0.0015           0.0000         0.645203          0.722537   \n",
      "2         0.0015           0.0016         0.746540          0.818562   \n",
      "3         0.0000           0.0000         0.795093          0.867054   \n",
      "4         0.0016           0.0000         0.768045          0.898636   \n",
      "5         0.0015           0.0000         0.725800          0.924149   \n",
      "6         0.0047           0.0000         0.732537          0.945653   \n",
      "7         0.0031           0.0000         0.702122          0.959833   \n",
      "8         0.0031           0.0000         0.702871          0.971504   \n",
      "9         0.0032           0.0015         0.680157          0.981720   \n",
      "\n",
      "  param_max_depth              params  rank_test_score  split0_test_score  \\\n",
      "0               1   {u'max_depth': 1}               10           0.329557   \n",
      "1               2   {u'max_depth': 2}                9           0.638025   \n",
      "2               3   {u'max_depth': 3}                3           0.767708   \n",
      "3               4   {u'max_depth': 4}                1           0.831180   \n",
      "4               5   {u'max_depth': 5}                2           0.813110   \n",
      "5               6   {u'max_depth': 6}                5           0.834425   \n",
      "6               7   {u'max_depth': 7}                4           0.760012   \n",
      "7               8   {u'max_depth': 8}                7           0.734843   \n",
      "8               9   {u'max_depth': 9}                6           0.674830   \n",
      "9              10  {u'max_depth': 10}                8           0.675978   \n",
      "\n",
      "   split0_train_score  split1_test_score       ...         split7_test_score  \\\n",
      "0            0.437292           0.450344       ...                  0.381239   \n",
      "1            0.728032           0.777953       ...                  0.627461   \n",
      "2            0.818748           0.840699       ...                  0.671320   \n",
      "3            0.864367           0.872333       ...                  0.758428   \n",
      "4            0.891803           0.836453       ...                  0.719622   \n",
      "5            0.912811           0.826296       ...                  0.709451   \n",
      "6            0.945236           0.777931       ...                  0.796923   \n",
      "7            0.962296           0.788707       ...                  0.686130   \n",
      "8            0.976009           0.751535       ...                  0.730211   \n",
      "9            0.985700           0.747625       ...                  0.713231   \n",
      "\n",
      "   split7_train_score  split8_test_score  split8_train_score  \\\n",
      "0            0.437358           0.510065            0.422747   \n",
      "1            0.724321           0.746006            0.717614   \n",
      "2            0.820646           0.825148            0.821289   \n",
      "3            0.868384           0.883118            0.866220   \n",
      "4            0.895304           0.869599            0.901244   \n",
      "5            0.925612           0.757289            0.924793   \n",
      "6            0.947003           0.758514            0.948783   \n",
      "7            0.967575           0.660984            0.960623   \n",
      "8            0.981491           0.767062            0.967792   \n",
      "9            0.989962           0.694376            0.977648   \n",
      "\n",
      "   split9_test_score  split9_train_score  std_fit_time  std_score_time  \\\n",
      "0           0.486265            0.422636      0.004500          0.0000   \n",
      "1           0.704958            0.719239      0.004500          0.0000   \n",
      "2           0.844835            0.819655      0.004500          0.0048   \n",
      "3           0.867480            0.867142      0.000000          0.0000   \n",
      "4           0.809244            0.896734      0.004800          0.0000   \n",
      "5           0.741988            0.921754      0.004500          0.0000   \n",
      "6           0.825314            0.945784      0.007184          0.0000   \n",
      "7           0.803701            0.959339      0.006204          0.0000   \n",
      "8           0.797253            0.972807      0.006204          0.0000   \n",
      "9           0.672550            0.981271      0.006400          0.0045   \n",
      "\n",
      "   std_test_score  std_train_score  \n",
      "0        0.168076         0.008463  \n",
      "1        0.121428         0.006418  \n",
      "2        0.133180         0.005922  \n",
      "3        0.095994         0.004240  \n",
      "4        0.111914         0.004305  \n",
      "5        0.146348         0.005715  \n",
      "6        0.139699         0.003432  \n",
      "7        0.147031         0.004900  \n",
      "8        0.134652         0.005646  \n",
      "9        0.142771         0.004749  \n",
      "\n",
      "[10 rows x 31 columns]\n",
      "Trial 10: $413,700.00\n",
      "\n",
      "Range in prices: $29,438.89\n"
     ]
    }
   ],
   "source": [
    "# 请先注释掉 fit_model 函数里的所有 print 语句\n",
    "vs.PredictTrials(features, prices, fit_model, client_data)"
   ]
  },
  {
   "cell_type": "markdown",
   "metadata": {},
   "source": [
    "### 问题 12 - 回答："
   ]
  },
  {
   "cell_type": "code",
   "execution_count": null,
   "metadata": {
    "collapsed": true
   },
   "outputs": [],
   "source": [
    "# 每次预测的价格之间的差距基本一致。 差距约在3千多美元。 模型基本健壮"
   ]
  },
  {
   "cell_type": "markdown",
   "metadata": {},
   "source": [
    "### 问题 13 - 实用性探讨\n",
    "*简单地讨论一下你建构的模型能否在现实世界中使用？* \n",
    "\n",
    "提示：回答以下几个问题，并给出相应结论的理由：\n",
    "- *1978年所采集的数据，在已考虑通货膨胀的前提下，在今天是否仍然适用？*\n",
    "- *数据中呈现的特征是否足够描述一个房屋？*\n",
    "- *在波士顿这样的大都市采集的数据，能否应用在其它乡镇地区？*\n",
    "- *你觉得仅仅凭房屋所在社区的环境来判断房屋价值合理吗？*"
   ]
  },
  {
   "cell_type": "markdown",
   "metadata": {},
   "source": [
    "### 问题 13 - 回答："
   ]
  },
  {
   "cell_type": "code",
   "execution_count": 32,
   "metadata": {
    "collapsed": true
   },
   "outputs": [],
   "source": [
    "# 1 不适用 今天和78年之间的很多数据都发生了变化，\n",
    "# 2 还可以加上房屋的房龄、楼层、外观设计等信息。\n",
    "# 3 不能。不同地区应该有不同的特征。不能一概而论\n",
    "# 4 不可以。从这个例子可以看出，有很多因素影响房屋的价值。"
   ]
  },
  {
   "cell_type": "markdown",
   "metadata": {},
   "source": [
    "## 可选问题 - 预测北京房价\n",
    "\n",
    "（本题结果不影响项目是否通过）通过上面的实践，相信你对机器学习的一些常用概念有了很好的领悟和掌握。但利用70年代的波士顿房价数据进行建模的确对我们来说意义不是太大。现在你可以把你上面所学应用到北京房价数据集中 `bj_housing.csv`。\n",
    "\n",
    "免责声明：考虑到北京房价受到宏观经济、政策调整等众多因素的直接影响，预测结果仅供参考。\n",
    "\n",
    "这个数据集的特征有：\n",
    "- Area：房屋面积，平方米\n",
    "- Room：房间数，间\n",
    "- Living: 厅数，间\n",
    "- School: 是否为学区房，0或1\n",
    "- Year: 房屋建造时间，年\n",
    "- Floor: 房屋所处楼层，层\n",
    "\n",
    "目标变量：\n",
    "- Value: 房屋人民币售价，万\n",
    "\n",
    "你可以参考上面学到的内容，拿这个数据集来练习数据分割与重排、定义衡量标准、训练模型、评价模型表现、使用网格搜索配合交叉验证对参数进行调优并选出最佳参数，比较两者的差别，最终得出最佳模型对验证集的预测分数。"
   ]
  },
  {
   "cell_type": "code",
   "execution_count": null,
   "metadata": {
    "collapsed": true
   },
   "outputs": [],
   "source": [
    "# TODO 6\n",
    "\n",
    "# 你的代码"
   ]
  },
  {
   "cell_type": "markdown",
   "metadata": {},
   "source": [
    "### 问题14 - 北京房价预测\n",
    "你成功的用新的数据集构建了模型了吗？他能对测试数据进行验证吗？它的表现是否符合你的预期？交叉验证是否有助于提升你模型的表现？\n",
    "\n",
    "**提示：**如果你是从零开始构建机器学习的代码会让你一时觉得无从下手。这时不要着急，你要做的只是查看之前写的代码，把每一行都看明白，然后逐步构建你的模型。当中遇到什么问题也可以在我们论坛寻找答案。也许你会发现你所构建的模型的表现并没有达到你的预期，这说明机器学习并非是一项简单的任务，构建一个表现良好的模型需要长时间的研究和测试。这也是我们接下来的课程中会逐渐学到的。"
   ]
  },
  {
   "cell_type": "markdown",
   "metadata": {},
   "source": [
    "### 问题14 - 回答"
   ]
  }
 ],
 "metadata": {
  "anaconda-cloud": {},
  "kernelspec": {
   "display_name": "Python [Root]",
   "language": "python",
   "name": "Python [Root]"
  },
  "language_info": {
   "codemirror_mode": {
    "name": "ipython",
    "version": 2
   },
   "file_extension": ".py",
   "mimetype": "text/x-python",
   "name": "python",
   "nbconvert_exporter": "python",
   "pygments_lexer": "ipython2",
   "version": "2.7.12"
  }
 },
 "nbformat": 4,
 "nbformat_minor": 1
}
